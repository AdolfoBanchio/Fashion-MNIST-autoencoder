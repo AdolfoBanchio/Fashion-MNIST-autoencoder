{
 "cells": [
  {
   "cell_type": "code",
   "execution_count": null,
   "metadata": {},
   "outputs": [],
   "source": []
  },
  {
   "cell_type": "code",
   "execution_count": 227,
   "metadata": {},
   "outputs": [],
   "source": [
    "transform = transforms.Compose([transforms.ToTensor(),transforms.Normalize((0.5,), (0.5,))])\n",
    "\n",
    "train_set_orig = datasets.FashionMNIST('MNIST_data/', download = True, train = True,  transform = transform)\n",
    "valid_set_orig = datasets.FashionMNIST('MNIST_data/', download = True, train = False, transform = transform)\n",
    "\n",
    "train_set_autoencoder = CustomDataset(train_set_orig)\n",
    "valid_set_autoencoder = CustomDataset(valid_set_orig)"
   ]
  },
  {
   "cell_type": "code",
   "execution_count": 228,
   "metadata": {},
   "outputs": [],
   "source": [
    "train_set_autoencoder = CustomDataset(train_set_orig)\n",
    "valid_set_autoencoder = CustomDataset(valid_set_orig)"
   ]
  },
  {
   "cell_type": "code",
   "execution_count": 229,
   "metadata": {},
   "outputs": [],
   "source": [
    "train_loader = DataLoader(train_set_autoencoder, batch_size=100, shuffle=True, num_workers=os.cpu_count()-1)\n",
    "valid_loader = DataLoader(valid_set_autoencoder, batch_size=100, shuffle=False, num_workers=os.cpu_count()-1)"
   ]
  },
  {
   "cell_type": "code",
   "execution_count": 244,
   "metadata": {},
   "outputs": [
    {
     "name": "stdout",
     "output_type": "stream",
     "text": [
      "Error al cargar el modelo para la configuración 4: Error(s) in loading state_dict for Autoencoder:\n",
      "\tMissing key(s) in state_dict: \"encoder.3.weight\", \"encoder.3.bias\", \"encoder.8.weight\", \"encoder.8.bias\", \"decoder.3.weight\", \"decoder.3.bias\", \"decoder.5.weight\", \"decoder.5.bias\". \n",
      "\tUnexpected key(s) in state_dict: \"encoder.4.weight\", \"encoder.4.bias\", \"encoder.9.weight\", \"encoder.9.bias\", \"decoder.7.weight\", \"decoder.7.bias\", \"decoder.4.weight\", \"decoder.4.bias\". \n",
      "\tsize mismatch for encoder.0.weight: copying a param with shape torch.Size([32, 1, 3, 3]) from checkpoint, the shape in current model is torch.Size([16, 1, 3, 3]).\n",
      "\tsize mismatch for encoder.0.bias: copying a param with shape torch.Size([32]) from checkpoint, the shape in current model is torch.Size([16]).\n",
      "\tsize mismatch for decoder.0.weight: copying a param with shape torch.Size([3136, 1024]) from checkpoint, the shape in current model is torch.Size([4608, 1024]).\n",
      "\tsize mismatch for decoder.0.bias: copying a param with shape torch.Size([3136]) from checkpoint, the shape in current model is torch.Size([4608]).\n",
      "odict_keys(['encoder.0.weight', 'encoder.0.bias', 'encoder.4.weight', 'encoder.4.bias', 'encoder.9.weight', 'encoder.9.bias', 'decoder.0.weight', 'decoder.0.bias', 'decoder.4.weight', 'decoder.4.bias', 'decoder.7.weight', 'decoder.7.bias'])\n",
      "odict_keys(['encoder.0.weight', 'encoder.0.bias', 'encoder.3.weight', 'encoder.3.bias', 'encoder.8.weight', 'encoder.8.bias', 'decoder.0.weight', 'decoder.0.bias', 'decoder.3.weight', 'decoder.3.bias', 'decoder.5.weight', 'decoder.5.bias'])\n",
      "Error al cargar el modelo para la configuración 2: Error(s) in loading state_dict for Autoencoder:\n",
      "\tMissing key(s) in state_dict: \"encoder.3.weight\", \"encoder.3.bias\", \"encoder.8.weight\", \"encoder.8.bias\", \"decoder.3.weight\", \"decoder.3.bias\", \"decoder.5.weight\", \"decoder.5.bias\". \n",
      "\tUnexpected key(s) in state_dict: \"encoder.4.weight\", \"encoder.4.bias\", \"encoder.9.weight\", \"encoder.9.bias\", \"decoder.7.weight\", \"decoder.7.bias\", \"decoder.4.weight\", \"decoder.4.bias\". \n",
      "\tsize mismatch for encoder.0.weight: copying a param with shape torch.Size([32, 1, 3, 3]) from checkpoint, the shape in current model is torch.Size([16, 1, 3, 3]).\n",
      "\tsize mismatch for encoder.0.bias: copying a param with shape torch.Size([32]) from checkpoint, the shape in current model is torch.Size([16]).\n",
      "\tsize mismatch for decoder.0.weight: copying a param with shape torch.Size([3136, 256]) from checkpoint, the shape in current model is torch.Size([4608, 256]).\n",
      "\tsize mismatch for decoder.0.bias: copying a param with shape torch.Size([3136]) from checkpoint, the shape in current model is torch.Size([4608]).\n",
      "odict_keys(['encoder.0.weight', 'encoder.0.bias', 'encoder.4.weight', 'encoder.4.bias', 'encoder.9.weight', 'encoder.9.bias', 'decoder.0.weight', 'decoder.0.bias', 'decoder.4.weight', 'decoder.4.bias', 'decoder.7.weight', 'decoder.7.bias'])\n",
      "odict_keys(['encoder.0.weight', 'encoder.0.bias', 'encoder.3.weight', 'encoder.3.bias', 'encoder.8.weight', 'encoder.8.bias', 'decoder.0.weight', 'decoder.0.bias', 'decoder.3.weight', 'decoder.3.bias', 'decoder.5.weight', 'decoder.5.bias'])\n",
      "Error al cargar el modelo para la configuración 3: Error(s) in loading state_dict for Autoencoder:\n",
      "\tMissing key(s) in state_dict: \"encoder.3.weight\", \"encoder.3.bias\", \"encoder.8.weight\", \"encoder.8.bias\", \"decoder.3.weight\", \"decoder.3.bias\", \"decoder.5.weight\", \"decoder.5.bias\". \n",
      "\tUnexpected key(s) in state_dict: \"encoder.4.weight\", \"encoder.4.bias\", \"encoder.9.weight\", \"encoder.9.bias\", \"decoder.7.weight\", \"decoder.7.bias\", \"decoder.4.weight\", \"decoder.4.bias\". \n",
      "\tsize mismatch for encoder.0.weight: copying a param with shape torch.Size([32, 1, 3, 3]) from checkpoint, the shape in current model is torch.Size([16, 1, 3, 3]).\n",
      "\tsize mismatch for encoder.0.bias: copying a param with shape torch.Size([32]) from checkpoint, the shape in current model is torch.Size([16]).\n",
      "\tsize mismatch for decoder.0.weight: copying a param with shape torch.Size([3136, 512]) from checkpoint, the shape in current model is torch.Size([4608, 512]).\n",
      "\tsize mismatch for decoder.0.bias: copying a param with shape torch.Size([3136]) from checkpoint, the shape in current model is torch.Size([4608]).\n",
      "odict_keys(['encoder.0.weight', 'encoder.0.bias', 'encoder.4.weight', 'encoder.4.bias', 'encoder.9.weight', 'encoder.9.bias', 'decoder.0.weight', 'decoder.0.bias', 'decoder.4.weight', 'decoder.4.bias', 'decoder.7.weight', 'decoder.7.bias'])\n",
      "odict_keys(['encoder.0.weight', 'encoder.0.bias', 'encoder.3.weight', 'encoder.3.bias', 'encoder.8.weight', 'encoder.8.bias', 'decoder.0.weight', 'decoder.0.bias', 'decoder.3.weight', 'decoder.3.bias', 'decoder.5.weight', 'decoder.5.bias'])\n",
      "Error al cargar el modelo para la configuración 1: Error(s) in loading state_dict for Autoencoder:\n",
      "\tMissing key(s) in state_dict: \"encoder.3.weight\", \"encoder.3.bias\", \"encoder.8.weight\", \"encoder.8.bias\", \"decoder.3.weight\", \"decoder.3.bias\", \"decoder.5.weight\", \"decoder.5.bias\". \n",
      "\tUnexpected key(s) in state_dict: \"encoder.4.weight\", \"encoder.4.bias\", \"encoder.9.weight\", \"encoder.9.bias\", \"decoder.7.weight\", \"decoder.7.bias\", \"decoder.4.weight\", \"decoder.4.bias\". \n",
      "\tsize mismatch for encoder.0.weight: copying a param with shape torch.Size([32, 1, 3, 3]) from checkpoint, the shape in current model is torch.Size([16, 1, 3, 3]).\n",
      "\tsize mismatch for encoder.0.bias: copying a param with shape torch.Size([32]) from checkpoint, the shape in current model is torch.Size([16]).\n",
      "\tsize mismatch for decoder.0.weight: copying a param with shape torch.Size([3136, 64]) from checkpoint, the shape in current model is torch.Size([4608, 64]).\n",
      "\tsize mismatch for decoder.0.bias: copying a param with shape torch.Size([3136]) from checkpoint, the shape in current model is torch.Size([4608]).\n",
      "odict_keys(['encoder.0.weight', 'encoder.0.bias', 'encoder.4.weight', 'encoder.4.bias', 'encoder.9.weight', 'encoder.9.bias', 'decoder.0.weight', 'decoder.0.bias', 'decoder.4.weight', 'decoder.4.bias', 'decoder.7.weight', 'decoder.7.bias'])\n",
      "odict_keys(['encoder.0.weight', 'encoder.0.bias', 'encoder.3.weight', 'encoder.3.bias', 'encoder.8.weight', 'encoder.8.bias', 'decoder.0.weight', 'decoder.0.bias', 'decoder.3.weight', 'decoder.3.bias', 'decoder.5.weight', 'decoder.5.bias'])\n",
      "Error al cargar el modelo para la configuración 5: Error(s) in loading state_dict for Autoencoder_no_lineal:\n",
      "\tMissing key(s) in state_dict: \"encoder.3.weight\", \"encoder.3.bias\", \"decoder.2.weight\", \"decoder.2.bias\". \n",
      "\tUnexpected key(s) in state_dict: \"encoder.4.weight\", \"encoder.4.bias\", \"decoder.3.weight\", \"decoder.3.bias\". \n",
      "\tsize mismatch for encoder.0.weight: copying a param with shape torch.Size([32, 1, 3, 3]) from checkpoint, the shape in current model is torch.Size([16, 1, 3, 3]).\n",
      "\tsize mismatch for encoder.0.bias: copying a param with shape torch.Size([32]) from checkpoint, the shape in current model is torch.Size([16]).\n",
      "\tsize mismatch for decoder.0.weight: copying a param with shape torch.Size([64, 32, 2, 2]) from checkpoint, the shape in current model is torch.Size([32, 16, 2, 2]).\n",
      "\tsize mismatch for decoder.0.bias: copying a param with shape torch.Size([32]) from checkpoint, the shape in current model is torch.Size([16]).\n",
      "odict_keys(['encoder.0.weight', 'encoder.0.bias', 'encoder.4.weight', 'encoder.4.bias', 'decoder.0.weight', 'decoder.0.bias', 'decoder.3.weight', 'decoder.3.bias'])\n",
      "odict_keys(['encoder.0.weight', 'encoder.0.bias', 'encoder.3.weight', 'encoder.3.bias', 'decoder.0.weight', 'decoder.0.bias', 'decoder.2.weight', 'decoder.2.bias'])\n",
      "Modelos cargados correctamente: dict_keys([])\n"
     ]
    },
    {
     "name": "stderr",
     "output_type": "stream",
     "text": [
      "/tmp/ipykernel_133673/1043210127.py:29: FutureWarning: You are using `torch.load` with `weights_only=False` (the current default value), which uses the default pickle module implicitly. It is possible to construct malicious pickle data which will execute arbitrary code during unpickling (See https://github.com/pytorch/pytorch/blob/main/SECURITY.md#untrusted-models for more details). In a future release, the default value for `weights_only` will be flipped to `True`. This limits the functions that could be executed during unpickling. Arbitrary objects will no longer be allowed to be loaded via this mode unless they are explicitly allowlisted by the user via `torch.serialization.add_safe_globals`. We recommend you start setting `weights_only=True` for any use case where you don't have full control of the loaded file. Please open an issue on GitHub for any issues related to this experimental feature.\n",
      "  aux = torch.load(model_path, map_location=device)\n"
     ]
    }
   ],
   "source": [
    "import os\n",
    "import json\n",
    "import torch\n",
    "from autoencoder import Autoencoder, Autoencoder_no_lineal\n",
    "\n",
    "# Ruta a la carpeta de resultados\n",
    "results_folder = './results/'\n",
    "files = os.listdir(results_folder)\n",
    "device = torch.device(\"cuda\" if torch.cuda.is_available() else \"cpu\")\n",
    "models = {}\n",
    "\n",
    "json_files = [file for file in files if file.endswith('.json')]\n",
    "model_files = [file for file in files if file.endswith('.pt')]\n",
    "\n",
    "for file in json_files:\n",
    "    with open(os.path.join(results_folder, file), 'r') as f:\n",
    "        result = json.load(f)\n",
    "        config_id = result['config']['id']\n",
    "        model_path = os.path.join(results_folder, f\"model_{config_id}.pt\")\n",
    "        \n",
    "        if result['config'].get('lineal', True):\n",
    "            dropout = result['config']['dropout']\n",
    "            l_size = result['config']['l_size']\n",
    "            model = Autoencoder(dropout=dropout, l_size=l_size)\n",
    "        else:\n",
    "            model = Autoencoder_no_lineal(dropout=result['config']['dropout'])\n",
    "        \n",
    "        # Cargar el estado del modelo\n",
    "        aux = torch.load(model_path, map_location=device)\n",
    "        \n",
    "        try:\n",
    "            model.load_state_dict(aux)\n",
    "        except RuntimeError as e:\n",
    "            print(f\"Error al cargar el modelo para la configuración {config_id}: {e}\")\n",
    "\n",
    "            # dimensiones de aux\n",
    "            print(aux.keys())\n",
    "            # dimensiones de model\n",
    "            print(model.state_dict().keys())\n",
    "            continue\n",
    "        \n",
    "        models[config_id] = {\n",
    "            'config': result['config'],\n",
    "            'model': model\n",
    "        }\n",
    "\n",
    "print(\"Modelos cargados correctamente:\", models.keys())"
   ]
  }
 ],
 "metadata": {
  "kernelspec": {
   "display_name": "LCC",
   "language": "python",
   "name": "python3"
  },
  "language_info": {
   "codemirror_mode": {
    "name": "ipython",
    "version": 3
   },
   "file_extension": ".py",
   "mimetype": "text/x-python",
   "name": "python",
   "nbconvert_exporter": "python",
   "pygments_lexer": "ipython3",
   "version": "3.10.14"
  }
 },
 "nbformat": 4,
 "nbformat_minor": 2
}
