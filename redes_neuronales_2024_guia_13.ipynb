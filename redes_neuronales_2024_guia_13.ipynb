{
 "cells": [
  {
   "cell_type": "markdown",
   "metadata": {
    "id": "NRYEofSD0xoF"
   },
   "source": [
    "# PyTorch: Autoencoder convolucional Fashion-MNIST\n",
    "\n",
    "## Refs.\n",
    "\n",
    "* https://pytorch.org/tutorials/beginner/basics/optimization_tutorial.html\n",
    "\n",
    "* https://github.com/zalandoresearch/fashion-mnist\n",
    "\n",
    "* https://github.com/pranay414/Fashion-MNIST-Pytorch/blob/master/fashion_mnist.ipynb\n",
    "\n",
    "## **Ejercicio 1)** Importando librerías\n",
    "\n",
    "**0)** De ser necesario, **instale PyTorch** escribiendo\n",
    "\n",
    "    !pip3 install torch torchvision torchaudio torchviz\n",
    "\n",
    "**1)** Importe las librerías estandard de Python: `os`, `datetime`, `collections` y `pickle`.\n",
    "\n",
    "**2)** Importe las siguientes librerías third party de Python: `matplotlib.pyplot`, `numpy`, `scipy`, `sklearn`, `pandas`, `dill` y `json`.\n",
    "\n",
    "**3)** Importe las librerias necesarias de **PyTorch**: `torch` y `torchvision`.\n",
    "\n",
    "**4)** Importe la librería: `google.colab`."
   ]
  },
  {
   "cell_type": "code",
   "execution_count": 2,
   "metadata": {
    "id": "Jg3VSqHCGSub"
   },
   "outputs": [
    {
     "name": "stdout",
     "output_type": "stream",
     "text": [
      "Requirement already satisfied: torch in /home/adolfo-banchio/.pyenv/versions/3.10.14/envs/LCC/lib/python3.10/site-packages (2.5.1)\n",
      "Requirement already satisfied: torchvision in /home/adolfo-banchio/.pyenv/versions/3.10.14/envs/LCC/lib/python3.10/site-packages (0.20.1)\n",
      "Requirement already satisfied: torchaudio in /home/adolfo-banchio/.pyenv/versions/3.10.14/envs/LCC/lib/python3.10/site-packages (2.5.1)\n",
      "Requirement already satisfied: torchviz in /home/adolfo-banchio/.pyenv/versions/3.10.14/envs/LCC/lib/python3.10/site-packages (0.0.2)\n",
      "Requirement already satisfied: nvidia-cudnn-cu12==9.1.0.70 in /home/adolfo-banchio/.pyenv/versions/3.10.14/envs/LCC/lib/python3.10/site-packages (from torch) (9.1.0.70)\n",
      "Requirement already satisfied: filelock in /home/adolfo-banchio/.pyenv/versions/3.10.14/envs/LCC/lib/python3.10/site-packages (from torch) (3.16.1)\n",
      "Requirement already satisfied: nvidia-cuda-cupti-cu12==12.4.127 in /home/adolfo-banchio/.pyenv/versions/3.10.14/envs/LCC/lib/python3.10/site-packages (from torch) (12.4.127)\n",
      "Requirement already satisfied: nvidia-cusparse-cu12==12.3.1.170 in /home/adolfo-banchio/.pyenv/versions/3.10.14/envs/LCC/lib/python3.10/site-packages (from torch) (12.3.1.170)\n",
      "Requirement already satisfied: nvidia-cublas-cu12==12.4.5.8 in /home/adolfo-banchio/.pyenv/versions/3.10.14/envs/LCC/lib/python3.10/site-packages (from torch) (12.4.5.8)\n",
      "Requirement already satisfied: nvidia-curand-cu12==10.3.5.147 in /home/adolfo-banchio/.pyenv/versions/3.10.14/envs/LCC/lib/python3.10/site-packages (from torch) (10.3.5.147)\n",
      "Requirement already satisfied: sympy==1.13.1 in /home/adolfo-banchio/.pyenv/versions/3.10.14/envs/LCC/lib/python3.10/site-packages (from torch) (1.13.1)\n",
      "Requirement already satisfied: triton==3.1.0 in /home/adolfo-banchio/.pyenv/versions/3.10.14/envs/LCC/lib/python3.10/site-packages (from torch) (3.1.0)\n",
      "Requirement already satisfied: typing-extensions>=4.8.0 in /home/adolfo-banchio/.pyenv/versions/3.10.14/envs/LCC/lib/python3.10/site-packages (from torch) (4.12.2)\n",
      "Requirement already satisfied: nvidia-cufft-cu12==11.2.1.3 in /home/adolfo-banchio/.pyenv/versions/3.10.14/envs/LCC/lib/python3.10/site-packages (from torch) (11.2.1.3)\n",
      "Requirement already satisfied: nvidia-nccl-cu12==2.21.5 in /home/adolfo-banchio/.pyenv/versions/3.10.14/envs/LCC/lib/python3.10/site-packages (from torch) (2.21.5)\n",
      "Requirement already satisfied: nvidia-cuda-runtime-cu12==12.4.127 in /home/adolfo-banchio/.pyenv/versions/3.10.14/envs/LCC/lib/python3.10/site-packages (from torch) (12.4.127)\n",
      "Requirement already satisfied: nvidia-nvtx-cu12==12.4.127 in /home/adolfo-banchio/.pyenv/versions/3.10.14/envs/LCC/lib/python3.10/site-packages (from torch) (12.4.127)\n",
      "Requirement already satisfied: nvidia-cusolver-cu12==11.6.1.9 in /home/adolfo-banchio/.pyenv/versions/3.10.14/envs/LCC/lib/python3.10/site-packages (from torch) (11.6.1.9)\n",
      "Requirement already satisfied: fsspec in /home/adolfo-banchio/.pyenv/versions/3.10.14/envs/LCC/lib/python3.10/site-packages (from torch) (2024.10.0)\n",
      "Requirement already satisfied: jinja2 in /home/adolfo-banchio/.pyenv/versions/3.10.14/envs/LCC/lib/python3.10/site-packages (from torch) (3.1.4)\n",
      "Requirement already satisfied: networkx in /home/adolfo-banchio/.pyenv/versions/3.10.14/envs/LCC/lib/python3.10/site-packages (from torch) (3.4.2)\n",
      "Requirement already satisfied: nvidia-cuda-nvrtc-cu12==12.4.127 in /home/adolfo-banchio/.pyenv/versions/3.10.14/envs/LCC/lib/python3.10/site-packages (from torch) (12.4.127)\n",
      "Requirement already satisfied: nvidia-nvjitlink-cu12==12.4.127 in /home/adolfo-banchio/.pyenv/versions/3.10.14/envs/LCC/lib/python3.10/site-packages (from torch) (12.4.127)\n",
      "Requirement already satisfied: mpmath<1.4,>=1.1.0 in /home/adolfo-banchio/.pyenv/versions/3.10.14/envs/LCC/lib/python3.10/site-packages (from sympy==1.13.1->torch) (1.3.0)\n",
      "Requirement already satisfied: pillow!=8.3.*,>=5.3.0 in /home/adolfo-banchio/.pyenv/versions/3.10.14/envs/LCC/lib/python3.10/site-packages (from torchvision) (10.4.0)\n",
      "Requirement already satisfied: numpy in /home/adolfo-banchio/.pyenv/versions/3.10.14/envs/LCC/lib/python3.10/site-packages (from torchvision) (2.1.0)\n",
      "Requirement already satisfied: graphviz in /home/adolfo-banchio/.pyenv/versions/3.10.14/envs/LCC/lib/python3.10/site-packages (from torchviz) (0.20.3)\n",
      "Requirement already satisfied: MarkupSafe>=2.0 in /home/adolfo-banchio/.pyenv/versions/3.10.14/envs/LCC/lib/python3.10/site-packages (from jinja2->torch) (3.0.2)\n",
      "\n",
      "\u001b[1m[\u001b[0m\u001b[34;49mnotice\u001b[0m\u001b[1;39;49m]\u001b[0m\u001b[39;49m A new release of pip is available: \u001b[0m\u001b[31;49m23.0.1\u001b[0m\u001b[39;49m -> \u001b[0m\u001b[32;49m24.3.1\u001b[0m\n",
      "\u001b[1m[\u001b[0m\u001b[34;49mnotice\u001b[0m\u001b[1;39;49m]\u001b[0m\u001b[39;49m To update, run: \u001b[0m\u001b[32;49mpip install --upgrade pip\u001b[0m\n"
     ]
    }
   ],
   "source": [
    "# 1.0)\n",
    "!pip3 install torch torchvision torchaudio torchviz"
   ]
  },
  {
   "cell_type": "code",
   "execution_count": 3,
   "metadata": {
    "id": "I8N3D_nU1_oT"
   },
   "outputs": [],
   "source": [
    "# 1.1)\n",
    "import os\n",
    "import pickle\n",
    "import datetime\n",
    "from collections import defaultdict"
   ]
  },
  {
   "cell_type": "code",
   "execution_count": 4,
   "metadata": {
    "id": "QsfFvPYhkCGl"
   },
   "outputs": [],
   "source": [
    "# 1.2)\n",
    "import matplotlib.pyplot as plt\n",
    "from matplotlib import cm\n",
    "import numpy as np\n",
    "import scipy as sp\n",
    "import scipy.linalg as linalg\n",
    "#import dill\n",
    "import json"
   ]
  },
  {
   "cell_type": "code",
   "execution_count": 49,
   "metadata": {
    "id": "Uot5sVNnkCNa"
   },
   "outputs": [],
   "source": [
    "# 1.3)\n",
    "import torch\n",
    "import torch.optim as optim\n",
    "from torch import nn\n",
    "from torch.nn import functional as F\n",
    "from torch.utils.data import Dataset, DataLoader, Subset, random_split\n",
    "from torchvision import datasets\n",
    "from torchvision import transforms\n",
    "from torchvision.io import read_image\n",
    "from torchvision.transforms import ToTensor, Lambda, Compose\n",
    "import torchvision \n",
    "#from torchviz import make_dot\n",
    "from tqdm import tqdm"
   ]
  },
  {
   "cell_type": "code",
   "execution_count": 6,
   "metadata": {
    "id": "rVCiYt-1kCUi"
   },
   "outputs": [
    {
     "data": {
      "text/plain": [
       "' \\nimport google.colab\\nfrom google.colab import files\\n'"
      ]
     },
     "execution_count": 6,
     "metadata": {},
     "output_type": "execute_result"
    }
   ],
   "source": [
    "# 1.4)\n",
    "\"\"\" \n",
    "import google.colab\n",
    "from google.colab import files\n",
    "\"\"\""
   ]
  },
  {
   "cell_type": "code",
   "execution_count": 7,
   "metadata": {
    "id": "oUFvWw_kr7Bt"
   },
   "outputs": [
    {
     "data": {
      "text/plain": [
       "'cpu'"
      ]
     },
     "execution_count": 7,
     "metadata": {},
     "output_type": "execute_result"
    }
   ],
   "source": [
    "device = 'cuda' if torch.cuda.is_available() else 'cpu'\n",
    "device"
   ]
  },
  {
   "cell_type": "markdown",
   "metadata": {
    "id": "NcaGEHAd10sb"
   },
   "source": [
    "## **Ejercicio 2)**\n",
    "\n",
    "Bajando y Jugando con el dataset **Fashion-MNIST**.\n",
    "\n",
    "**1)** Baje y transforme los conjuntos de entrenamiento y testeo de FashionMNIST.\n",
    "\n",
    "**2)** Grafique un mosaico de 3x3 imagenes de FashionMNIST, cada una titulada con su respectiva clasificación"
   ]
  },
  {
   "cell_type": "code",
   "execution_count": 8,
   "metadata": {
    "id": "NUoQ9bnwaZ7O"
   },
   "outputs": [],
   "source": [
    "# 2.1)\n",
    "# Define a transform to normalize the data\n",
    "transform = transforms.Compose([transforms.ToTensor(),transforms.Normalize((0.5,), (0.5,))])\n",
    "\n",
    "# Download and load the training data\n",
    "train_set_orig = datasets.FashionMNIST('MNIST_data/', download = True, train = True,  transform = transform)\n",
    "valid_set_orig = datasets.FashionMNIST('MNIST_data/', download = True, train = False, transform = transform)"
   ]
  },
  {
   "cell_type": "code",
   "execution_count": 91,
   "metadata": {},
   "outputs": [],
   "source": [
    "#train_set_orig[40]"
   ]
  },
  {
   "cell_type": "code",
   "execution_count": 10,
   "metadata": {
    "id": "-wJdl9mKx5EC"
   },
   "outputs": [
    {
     "data": {
      "image/png": "[encoded data removed]",
      "text/plain": [
       "<Figure size 640x480 with 9 Axes>"
      ]
     },
     "metadata": {},
     "output_type": "display_data"
    }
   ],
   "source": [
    "# 2.2)\n",
    "figure = plt.figure()\n",
    "cols,rows = 3,3\n",
    "for i in range(1,cols*rows+1):\n",
    "    j = torch.randint(len(train_set_orig),size=(1,)).item() # Los números aleatorios tambien se pueden generar desde pytorch. Util para trabajar en la GPU.\n",
    "    image,label = train_set_orig[j]\n",
    "    figure.add_subplot(rows,cols,i)\n",
    "    #plt.title(labels_names[label])\n",
    "    plt.axis(\"off\")\n",
    "    plt.imshow(image.squeeze(),cmap=\"Greys_r\")\n",
    "plt.show()"
   ]
  },
  {
   "cell_type": "markdown",
   "metadata": {
    "id": "1OWYnfxWz8RS"
   },
   "source": [
    "## Ejercicio 3) Creando un `DataSet` personalizado.\n",
    "\n",
    "**1)** Con el fin de implementar un autoencoder, cree una clase derivada de la clase `DataSet` (llámela, por ejemplo `CustomDataset`) que, en vez de retornal el label asociado a cada imagen de `FashionMNIST`, retorne la imagen misma.\n",
    "\n",
    "**2)** Utilice dicha clase para transformar los conjuntos de entrenamiento y testeo de `FashionMNIST` pensados para clasificación, a correspondientes conjuntos pensados para entrenar un autoencoder.\n",
    "Para ello, defina una clase `CustomDataset` que deriva de la clase `Dataset`, cuyo método `__getitem__(self,i)` retorne el pair `input,output` donde tanto `input` cómo `output` son iguales a la $i$-ésima imagen del dataset."
   ]
  },
  {
   "cell_type": "code",
   "execution_count": 11,
   "metadata": {
    "id": "sPjO1_Av1f87"
   },
   "outputs": [],
   "source": [
    "# 3.1)\n",
    "class CustomDataset(Dataset):\n",
    "    def __init__(self, dataset):\n",
    "        self.dataset = dataset\n",
    "\n",
    "    def __len__(self):\n",
    "        return len(self.dataset)\n",
    "    \n",
    "    def __getitem__(self, idx):\n",
    "        image, label = self.dataset[idx]\n",
    "        return image, image"
   ]
  },
  {
   "cell_type": "code",
   "execution_count": 12,
   "metadata": {},
   "outputs": [],
   "source": [
    "train_set_autoencoder = CustomDataset(train_set_orig)\n",
    "valid_set_autoencoder = CustomDataset(valid_set_orig)"
   ]
  },
  {
   "cell_type": "markdown",
   "metadata": {
    "id": "REToccG127zI"
   },
   "source": [
    "## Ejercicio 4) Red Neuronal Autoencoder Convolucional\n",
    "\n",
    "**1)** Defina y cree una red neuronal *autoenconder convolucional* constituida por las siguientes capas:\n",
    "\n",
    "1. Una capa convolucional 2D constituida por:\n",
    "\n",
    "* Una capa `Conv2d` (ver https://pytorch.org/docs/stable/generated/torch.nn.Conv2d.html) que deberá mapear $1$ canal de entradas de dimensiones $(28,28)$ a $16$ canales de de salida de dimensiones $(26,26)$. Para ello utilice un kernel de dimensiones $(3,3)$ y el resto de los parámetros en sus valores por defecto.\n",
    "* Una capa `ReLU`.\n",
    "* Una capa `Dropout`.\n",
    "* Una capa `MaxPool` (ver https://pytorch.org/docs/stable/generated/torch.nn.MaxPool2d.html) con un kernel de dimensiones $(2,2)$, de manera que mapeará entradas de dimensiones $(26,26)$ a salidas de dimensiones $(13,13)$.\n",
    "\n",
    "2. Una capa lineal constituida por:\n",
    "\n",
    "* Una capa `Flatten` que mapea una entrada de $16$ canales de dimensiones $(13,13)$ a un vector de dimensión $16\\times 13\\times 13$.\n",
    "* Una capa `Linear` que mapea un vector de dimensión $16\\times 13\\times 13$ a un vector de dimensión $n$.\n",
    "* Una capa `ReLU`.\n",
    "* Una capa `Dropout`.\n",
    "\n",
    "3. Una capa capa convolucional 2D transpuesta, constituida por:\n",
    "\n",
    "* una capa `ConvTranspose2d` (ver https://pytorch.org/docs/stable/generated/torch.nn.ConvTranspose2d.html) que mapea $16$ canales de dimensiones $(13,13)$ a $1$ canal de dimensiones $(28,28)$. Para ello, utilice un kernel de dimensiones $(6,6)$ y un stride de dimensiones $(2,2)$, dejando el resto de los parámetros en sus valores por defecto, i.e. padding de $(1,1)$ y out_padding de $(0,0)$.\n",
    "\n",
    "* Una capa `Sigmoid`.\n",
    "\n",
    "**3)** Grafique, a modo de comparación, unas pocas imagenes a predecir vs las correspondientes imagenes predichas utilizando el modelo sin entrenar y dropout $p=0.2$."
   ]
  },
  {
   "cell_type": "code",
   "execution_count": 36,
   "metadata": {
    "id": "qSJqCozXCEq1"
   },
   "outputs": [],
   "source": [
    "# 4.1)\n",
    "class Autoencoder(nn.Module):\n",
    "    def __init__(self, dropout):\n",
    "        super(Autoencoder, self).__init__()\n",
    "        self.encoder = nn.Sequential(\n",
    "            #nn.Flatten(),\n",
    "            nn.Conv2d(1, 16, kernel_size=3, padding=0), # (1, 28, 28) -> (16, 26, 26)\n",
    "            nn.ReLU(),\n",
    "            nn.Dropout(dropout),\n",
    "            nn.MaxPool2d(2,2) # (16, 26, 26) -> (16, 13, 13)\n",
    "        )\n",
    "        self.linear = nn.Sequential(\n",
    "            nn.Flatten(),\n",
    "            nn.Linear(16*13*13, 16*13*13), # FULLY CONNECTED\n",
    "            nn.ReLU(),\n",
    "            nn.Dropout(dropout),\n",
    "        )\n",
    "        self.decoder = nn.Sequential(\n",
    "            nn.Unflatten(1, (16,13,13)),\n",
    "            nn.ConvTranspose2d(16,1,kernel_size=6, stride = 2, padding=1), # (16, 13, 13) -> (1, 28, 28)\n",
    "            nn.Sigmoid()\n",
    "        )\n",
    "\n",
    "    def forward(self, x):\n",
    "        x = self.encoder(x)\n",
    "        x = self.linear(x)\n",
    "        x = self.decoder(x)\n",
    "        return x"
   ]
  },
  {
   "cell_type": "code",
   "execution_count": 37,
   "metadata": {},
   "outputs": [
    {
     "data": {
      "text/plain": [
       "Autoencoder(\n",
       "  (encoder): Sequential(\n",
       "    (0): Conv2d(1, 16, kernel_size=(3, 3), stride=(1, 1))\n",
       "    (1): ReLU()\n",
       "    (2): Dropout(p=0.2, inplace=False)\n",
       "    (3): MaxPool2d(kernel_size=2, stride=2, padding=0, dilation=1, ceil_mode=False)\n",
       "  )\n",
       "  (linear): Sequential(\n",
       "    (0): Flatten(start_dim=1, end_dim=-1)\n",
       "    (1): Linear(in_features=2704, out_features=2704, bias=True)\n",
       "    (2): ReLU()\n",
       "    (3): Dropout(p=0.2, inplace=False)\n",
       "  )\n",
       "  (decoder): Sequential(\n",
       "    (0): Unflatten(dim=1, unflattened_size=(16, 13, 13))\n",
       "    (1): ConvTranspose2d(16, 1, kernel_size=(6, 6), stride=(2, 2), padding=(1, 1))\n",
       "    (2): Sigmoid()\n",
       "  )\n",
       ")"
      ]
     },
     "execution_count": 37,
     "metadata": {},
     "output_type": "execute_result"
    }
   ],
   "source": [
    "p = 0.2\n",
    "model = Autoencoder(p)\n",
    "model.to(device)"
   ]
  },
  {
   "cell_type": "code",
   "execution_count": 38,
   "metadata": {},
   "outputs": [
    {
     "data": {
      "image/png": "[encoded data removed]",
      "text/plain": [
       "<Figure size 640x480 with 6 Axes>"
      ]
     },
     "metadata": {},
     "output_type": "display_data"
    }
   ],
   "source": [
    "figure = plt.figure()\n",
    "rows,cols = 3,2\n",
    "\n",
    "# print 3 images and their reconstructions\n",
    "for i in range(1,rows+1):\n",
    "    j = torch.randint(len(train_set_autoencoder),size=(1,)).item()\n",
    "    image,_ = train_set_autoencoder[j]\n",
    "    image = image.unsqueeze(0).to(device)\n",
    "    with torch.no_grad():\n",
    "        output = model(image)\n",
    "    figure.add_subplot(rows,cols,2*i-1)\n",
    "    plt.axis(\"off\")\n",
    "    plt.imshow(image.squeeze().cpu(),cmap=\"Greys_r\")\n",
    "    figure.add_subplot(rows,cols,2*i)\n",
    "    plt.axis(\"off\")\n",
    "    plt.imshow(output.squeeze().cpu(),cmap=\"Greys_r\")"
   ]
  },
  {
   "cell_type": "markdown",
   "metadata": {
    "id": "A9uINlg69OTw"
   },
   "source": [
    "## Ejercicio 5) Entrenando el modelo\n",
    "\n",
    "**1)** Implemente, en una función, un loop de entrenamiento que recorra los batchs (lotes).\n",
    "\n",
    "**2)** Implemente, en una función, un loop de prueba o validación que recorra los batchs.\n",
    "\n",
    "**3)** Inicialize dos `DataLoader`s llamados `train_loader` y `valid_loader` que estén definidos sobre  el `train_set` (conjunto de entranmiento) y el `valid_set` (conjunto de prueba) de Fashion-MNIST, respectivamente, y que usen batchs de 100 ejemplos.\n",
    "\n",
    "**4)** Cree una función de pérdida usando el **Error Cuadrático Medio**.\n",
    "\n",
    "**5)** Cree un optimizador con un learning rate igual a $10^{-3}$.\n",
    "Pruebe con **ADAM**.\n",
    "\n",
    "**6)** Cree una instancia del modelo con dropout $p=0.2$.\n",
    "\n",
    "**7)** Especifique en que dispositivo (`device`) va a trabajar: en una **CPU** o en una **GPU**.\n",
    "\n",
    "**8)** Implemente un loop que itere sobre épocas de entrenamiento y validación, y que guarde en listas correspondientes los siguientes valores del **ECM**:\n",
    "*  promedios (incorrectos) sobre el conjunto de entrenamiento, calculado **durante** el proceso de entrenamiento sobre la época.\n",
    "*  promedios (correctos) sobre el conjunto de entrenamiento, calculados **posteriormente** al proceso de entrenamiento sobre la época.\n",
    "*  promedios (correctos) sobre el conjunto de validación, calculados **posteriormente** al proceso de entrenamiento sobre la época.\n",
    "\n",
    "**IMPORTANTE:** No olvide copiar los batchs al dispositivo de trabajo.\n",
    "\n",
    "**9)** Entrene y valide el modelo.\n",
    "\n",
    "**10)** Use las listas del inciso **8)** para graficar en función de las **épocas de entrenamiento** el **ECM** de **entrenamiento** y **validación**, respectivamente.\n",
    "Discuta y comente, cual es el número óptimo de épocas de entrenamiento?\n",
    "\n",
    "**11)** Grafique, comparativamente, algunas de las imagenes a predecir vs las imagenes predichas por el modelo entrenado.\n",
    "\n",
    "**12)** Repita para otras elecciones de los hiperparámetros tales como, el optimizador (podría ser el **SGD**), el **learning-rate**, el tamaño de los **batchs**, el **dropout**, **capas convolucionales** y **convolucionales traspuestas** de otros tamaños.\n",
    "En particular, pruebe eliminando, adecuadamente, la **capa lineal**.\n",
    "Que valores de estos hiperparámetros considera los más convenientes? Porqué?"
   ]
  },
  {
   "cell_type": "code",
   "execution_count": null,
   "metadata": {
    "id": "hyuXv-0x29Xw"
   },
   "outputs": [],
   "source": [
    "# 5.1)\n",
    "def train_one_epoch(model, train_loader, optimizer, criterion):\n",
    "  \"\"\"`\n",
    "  Trains the model for all the batches in train_loader\n",
    "\n",
    "  Returns:\n",
    "  - avg entropy loss\n",
    "  - avg accuracy\n",
    "  \"\"\"\n",
    "  model.train() # Se pone el modelo en modo de entrenamiento\n",
    "  sum_batch_avg_loss = 0 # Inicializamos la suma de las pérdidas promedio de los batches\n",
    "\n",
    "  num_processed_examples = 0 # Inicializamos la cantidad de ejemplos procesados\n",
    "  for batch_number, (images, labels) in enumerate(train_loader):\n",
    "      device = torch.device(\"cuda\" if torch.cuda.is_available() else \"cpu\")\n",
    "\n",
    "      images = images.to(device) # Se envía la imagen al dispositivo\n",
    "      labels = labels.to(device) # Se envía la etiqueta al dispositivo\n",
    "\n",
    "      batch_size = len(images) # Se obtiene el tamaño del lote\n",
    "      # Se obtiene la predicción del modelo y se calcula la pérdida \n",
    "      pred = model(images)\n",
    "      loss = criterion(pred, labels)\n",
    "      \n",
    "      # Backpropagation usando el optimizador \n",
    "      optimizer.zero_grad()\n",
    "      loss.backward()\n",
    "      optimizer.step()\n",
    "      \n",
    "      # Calculamos la perdida promedio del batch y lo agregamos a la suma total\n",
    "      batch_avg_loss = loss.item() \n",
    "      sum_batch_avg_loss += batch_avg_loss\n",
    "      \n",
    "      # Calculamos la cantidad total de predicciones procesadas\n",
    "      num_processed_examples += batch_size\n",
    "      \n",
    "  # Calculamos la perdida promedio de todos los batches\n",
    "  avg_loss = sum_batch_avg_loss / len(train_loader)\n",
    "  # Calculamos la precisión del modelo\n",
    "  return avg_loss"
   ]
  },
  {
   "cell_type": "code",
   "execution_count": 40,
   "metadata": {},
   "outputs": [],
   "source": [
    "def validation_loop(model, valid_loader, criterion):\n",
    "    model.eval() # Se pone el modelo en modo de evaluación\n",
    "\n",
    "    sum_batch_avg_loss = 0 # Inicializamos la suma de las pérdidas promedio de los batches\n",
    "    num_processed_examples = 0 # Inicializamos la cantidad de ejemplos procesados\n",
    "\n",
    "    for batch_number, (images, labels) in enumerate(valid_loader):\n",
    "        device = torch.device(\"cuda\" if torch.cuda.is_available() else \"cpu\")\n",
    "\n",
    "        images = images.to(device) # Se envía la imagen al dispositivo\n",
    "        labels = labels.to(device) # Se envía la etiqueta al dispositivo\n",
    "      \n",
    "        batch_size = len(images)\n",
    "\n",
    "        # Se obtiene la predicción del modelo y se calcula la pérdida\n",
    "        pred = model(images)\n",
    "        loss = criterion(pred, labels)\n",
    "\n",
    "        # Calculamos la perdida promedio del batch y lo agregamos a la suma total\n",
    "        batch_avg_loss = loss.item()\n",
    "        sum_batch_avg_loss += batch_avg_loss\n",
    "        \n",
    "        # Calculamos la cantidad total de predicciones procesadas\n",
    "        num_processed_examples += batch_size\n",
    "\n",
    "    # Calculamos la perdida promedio de todos los batches\n",
    "    avg_loss = sum_batch_avg_loss / len(valid_loader)\n",
    "    # Calculamos la precisión del modelo\n",
    "\n",
    "    return avg_loss"
   ]
  },
  {
   "cell_type": "code",
   "execution_count": 41,
   "metadata": {},
   "outputs": [],
   "source": [
    "def train_model(model, train_loader, valid_loader, optimizer, criterion, epochs):\n",
    "  train_entropy_loss_incorrect = []\n",
    "  train_entropy_loss = []\n",
    "  \n",
    "  valid_entropy_loss = []\n",
    "  for epoch in tqdm(range(epochs)):\n",
    "\n",
    "    # train one epoch\n",
    "    train_entropy_inc = train_one_epoch(model, train_loader, optimizer, criterion)\n",
    "    train_entropy_loss_incorrect.append(train_entropy_inc)\n",
    "\n",
    "    # check avg loss and accuracy for incorrect predictions\n",
    "    train_entropy = validation_loop(model, train_loader, criterion)\n",
    "    train_entropy_loss.append(train_entropy)\n",
    "\n",
    "    # validate the epoch\n",
    "    valid_entropy = validation_loop(model, valid_loader, criterion)\n",
    "    valid_entropy_loss.append(valid_entropy)\n",
    "\n",
    "  return train_entropy_loss_incorrect, train_entropy_loss, valid_entropy_loss"
   ]
  },
  {
   "cell_type": "code",
   "execution_count": 92,
   "metadata": {},
   "outputs": [],
   "source": [
    "p = 0.2\n",
    "model = Autoencoder(p)\n",
    "model.to(device)\n",
    "\n",
    "train_loader = DataLoader(train_set_autoencoder, batch_size=100, shuffle=True, num_workers=os.cpu_count()-1)\n",
    "valid_loader = DataLoader(valid_set_autoencoder, batch_size=100, shuffle=False, num_workers=os.cpu_count()-1)\n",
    "\n",
    "lr = 1e-3\n",
    "optimizer = optim.Adam(model.parameters(), lr=lr)\n",
    "\n",
    "criterion = nn.MSELoss()\n",
    "\n",
    "epochs = 10\n",
    "\n",
    "#train_entropy_loss_incorrect, train_entropy_loss, valid_entropy_loss = train_model(model, train_loader, valid_loader, optimizer, criterion, epochs)"
   ]
  },
  {
   "cell_type": "code",
   "execution_count": null,
   "metadata": {},
   "outputs": [
    {
     "name": "stdout",
     "output_type": "stream",
     "text": [
      "100%|███████████████████████████████████████████| 50/50 [59:15<00:00, 71.10s/it]\n",
      " 80%|██████████████████████████████████▍        | 40/50 [59:26<15:15, 91.55s/it]"
     ]
    }
   ],
   "source": [
    "!python3 guia13.py"
   ]
  },
  {
   "cell_type": "code",
   "execution_count": 74,
   "metadata": {},
   "outputs": [
    {
     "data": {
      "image/png": "[encoded data removed]",
      "text/plain": [
       "<Figure size 640x480 with 6 Axes>"
      ]
     },
     "metadata": {},
     "output_type": "display_data"
    }
   ],
   "source": [
    "figure = plt.figure()\n",
    "rows,cols = 3,2\n",
    "\n",
    "# print 3 images and their reconstructions\n",
    "for i in range(1,rows+1):\n",
    "    j = torch.randint(len(train_set_autoencoder),size=(1,)).item()\n",
    "    image,_ = train_set_autoencoder[j]\n",
    "    image = image.unsqueeze(0).to(device)\n",
    "    with torch.no_grad():\n",
    "        output = model(image)\n",
    "    figure.add_subplot(rows,cols,2*i-1)\n",
    "    plt.axis(\"off\")\n",
    "    plt.imshow(image.squeeze().cpu(),cmap=\"Greys_r\")\n",
    "    figure.add_subplot(rows,cols,2*i)\n",
    "    plt.axis(\"off\")\n",
    "    plt.imshow(output.squeeze().cpu(),cmap=\"Greys_r\")"
   ]
  }
 ],
 "metadata": {
  "accelerator": "GPU",
  "colab": {
   "gpuType": "T4",
   "provenance": []
  },
  "kernelspec": {
   "display_name": "LCC",
   "language": "python",
   "name": "python3"
  },
  "language_info": {
   "codemirror_mode": {
    "name": "ipython",
    "version": 3
   },
   "file_extension": ".py",
   "mimetype": "text/x-python",
   "name": "python",
   "nbconvert_exporter": "python",
   "pygments_lexer": "ipython3",
   "version": "3.10.14"
  }
 },
 "nbformat": 4,
 "nbformat_minor": 0
}
